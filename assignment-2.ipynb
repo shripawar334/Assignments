{
 "cells": [
  {
   "cell_type": "markdown",
   "id": "e9fad7e3-b3ef-4ef4-a99e-2b1dfe3e265f",
   "metadata": {},
   "source": [
    "Q1(a) – Toss a Coin 10,000 Times (Experimental Probability)"
   ]
  },
  {
   "cell_type": "code",
   "execution_count": 1,
   "id": "122ac52a-7b30-48ab-9817-6b6bb8018057",
   "metadata": {},
   "outputs": [
    {
     "name": "stdout",
     "output_type": "stream",
     "text": [
      "Total Trials: 10000\n",
      "Heads: 5033 | Probability = 0.503\n",
      "Tails: 4967 | Probability = 0.497\n"
     ]
    }
   ],
   "source": [
    "import random\n",
    "\n",
    "# Simulate 10,000 coin tosses\n",
    "trials = 10000\n",
    "heads = 0\n",
    "tails = 0\n",
    "\n",
    "for _ in range(trials):\n",
    "    toss = random.choice(['H', 'T'])\n",
    "    if toss == 'H':\n",
    "        heads += 1\n",
    "    else:\n",
    "        tails += 1\n",
    "\n",
    "p_heads = heads / trials\n",
    "p_tails = tails / trials\n",
    "\n",
    "print(\"Total Trials:\", trials)\n",
    "print(\"Heads:\", heads, \"| Probability =\", round(p_heads, 3))\n",
    "print(\"Tails:\", tails, \"| Probability =\", round(p_tails, 3))\n"
   ]
  },
  {
   "cell_type": "markdown",
   "id": "18820499-4050-411b-a0a2-c0a9871cdd7c",
   "metadata": {},
   "source": [
    "Q1(b) – Rolling Two Dice and Probability of Getting a Sum of 7"
   ]
  },
  {
   "cell_type": "code",
   "execution_count": 2,
   "id": "849fab50-1f9f-49b0-a6a3-45656cd85cad",
   "metadata": {},
   "outputs": [
    {
     "name": "stdout",
     "output_type": "stream",
     "text": [
      "Probability of getting sum = 7: 0.165\n"
     ]
    }
   ],
   "source": [
    "import random\n",
    "\n",
    "trials = 10000\n",
    "count_sum7 = 0\n",
    "\n",
    "for _ in range(trials):\n",
    "    die1 = random.randint(1, 6)\n",
    "    die2 = random.randint(1, 6)\n",
    "    if die1 + die2 == 7:\n",
    "        count_sum7 += 1\n",
    "\n",
    "p_sum7 = count_sum7 / trials\n",
    "print(\"Probability of getting sum = 7:\", round(p_sum7, 3))\n"
   ]
  },
  {
   "cell_type": "markdown",
   "id": "19e6e581-0572-4a69-8400-921e09d4d35b",
   "metadata": {},
   "source": [
    "Q2 – Probability of Getting At Least One “6” in 10 Rolls"
   ]
  },
  {
   "cell_type": "code",
   "execution_count": 3,
   "id": "d2671c8e-a88c-49bd-964c-3fbd12e88286",
   "metadata": {},
   "outputs": [
    {
     "name": "stdout",
     "output_type": "stream",
     "text": [
      "Estimated Probability of getting at least one 6: 0.842\n"
     ]
    }
   ],
   "source": [
    "trials = 10000\n",
    "success = 0\n",
    "\n",
    "for _ in range(trials):\n",
    "    rolls = [random.randint(1, 6) for _ in range(10)]\n",
    "    if 6 in rolls:\n",
    "        success += 1\n",
    "\n",
    "p_atleast_one_6 = success / trials\n",
    "print(\"Estimated Probability of getting at least one 6:\", round(p_atleast_one_6, 3))\n"
   ]
  },
  {
   "cell_type": "markdown",
   "id": "ccfb0a9f-bfdd-46f8-b4db-4f798835251d",
   "metadata": {},
   "source": [
    "Q3 – Conditional Probability & Bayes’ Theorem (Colored Balls)"
   ]
  },
  {
   "cell_type": "code",
   "execution_count": 4,
   "id": "9d71ab29-de95-44fa-b57a-c5243ae2c76f",
   "metadata": {},
   "outputs": [
    {
     "name": "stdout",
     "output_type": "stream",
     "text": [
      "P(Red | previous Blue): 0.237\n"
     ]
    }
   ],
   "source": [
    "import random\n",
    "\n",
    "colors = ['Red']*5 + ['Green']*7 + ['Blue']*8\n",
    "trials = 1000\n",
    "data = []\n",
    "\n",
    "for _ in range(trials):\n",
    "    prev = random.choice(colors)\n",
    "    curr = random.choice(colors)\n",
    "    data.append((prev, curr))\n",
    "\n",
    "# P(Red | previous Blue)\n",
    "blue_cases = [pair for pair in data if pair[0] == 'Blue']\n",
    "red_given_blue = sum(1 for pair in blue_cases if pair[1] == 'Red') / len(blue_cases)\n",
    "\n",
    "print(\"P(Red | previous Blue):\", round(red_given_blue, 3))\n"
   ]
  },
  {
   "cell_type": "markdown",
   "id": "82300464-bd88-4ad6-b915-9ddf94d14c4e",
   "metadata": {},
   "source": [
    "Q4 – Discrete Random Variable Simulation"
   ]
  },
  {
   "cell_type": "code",
   "execution_count": 5,
   "id": "f79e5b9f-d17e-4df6-a869-8a18bd8568f2",
   "metadata": {},
   "outputs": [
    {
     "name": "stdout",
     "output_type": "stream",
     "text": [
      "Empirical Mean: 2.116\n",
      "Variance: 0.641\n",
      "Standard Deviation: 0.8\n"
     ]
    }
   ],
   "source": [
    "import numpy as np\n",
    "\n",
    "values = [1, 2, 3]\n",
    "probabilities = [0.25, 0.35, 0.4]\n",
    "\n",
    "sample = np.random.choice(values, size=1000, p=probabilities)\n",
    "\n",
    "mean = np.mean(sample)\n",
    "variance = np.var(sample)\n",
    "std_dev = np.std(sample)\n",
    "\n",
    "print(\"Empirical Mean:\", round(mean, 3))\n",
    "print(\"Variance:\", round(variance, 3))\n",
    "print(\"Standard Deviation:\", round(std_dev, 3))\n"
   ]
  },
  {
   "cell_type": "markdown",
   "id": "214592c7-bfd8-48e0-8641-76a58fe8e5d5",
   "metadata": {},
   "source": [
    "Q5 – Exponential Distribution Simulation"
   ]
  },
  {
   "cell_type": "code",
   "execution_count": 6,
   "id": "8ef50e29-93b4-4aa1-87a4-6b9fc6f53401",
   "metadata": {},
   "outputs": [
    {
     "data": {
      "image/png": "[encoded data removed]",
      "text/plain": [
       "<Figure size 800x500 with 1 Axes>"
      ]
     },
     "metadata": {},
     "output_type": "display_data"
    }
   ],
   "source": [
    "import matplotlib.pyplot as plt\n",
    "import numpy as np\n",
    "\n",
    "# Mean = 5 → λ = 1/5\n",
    "samples = np.random.exponential(scale=5, size=2000)\n",
    "\n",
    "plt.figure(figsize=(8,5))\n",
    "plt.hist(samples, bins=30, density=True, alpha=0.6, label=\"Histogram\")\n",
    "plt.title(\"Exponential Distribution (Mean=5)\")\n",
    "plt.xlabel(\"Value\")\n",
    "plt.ylabel(\"Density\")\n",
    "plt.legend()\n",
    "plt.show()\n"
   ]
  },
  {
   "cell_type": "markdown",
   "id": "264c85dd-d02d-4e15-9f89-465c7ce03e5b",
   "metadata": {},
   "source": [
    "Q6 – Central Limit Theorem (CLT Simulation)"
   ]
  },
  {
   "cell_type": "code",
   "execution_count": 7,
   "id": "6aa250cb-380f-4d3d-855a-03c5d62b9e78",
   "metadata": {},
   "outputs": [
    {
     "data": {
      "image/png": "[encoded data removed]",
      "text/plain": [
       "<Figure size 1000x400 with 2 Axes>"
      ]
     },
     "metadata": {},
     "output_type": "display_data"
    }
   ],
   "source": [
    "import numpy as np\n",
    "import matplotlib.pyplot as plt\n",
    "\n",
    "# Step 1: Generate 10,000 uniform random numbers\n",
    "data = np.random.uniform(0, 1, 10000)\n",
    "\n",
    "# Step 2: Draw 1000 samples of size n = 30\n",
    "sample_means = [np.mean(np.random.choice(data, 30)) for _ in range(1000)]\n",
    "\n",
    "# Plot both distributions\n",
    "plt.figure(figsize=(10,4))\n",
    "\n",
    "plt.subplot(1,2,1)\n",
    "plt.hist(data, bins=30, color='lightblue', edgecolor='black')\n",
    "plt.title(\"Uniform Distribution\")\n",
    "\n",
    "plt.subplot(1,2,2)\n",
    "plt.hist(sample_means, bins=30, color='lightgreen', edgecolor='black')\n",
    "plt.title(\"Distribution of Sample Means (n=30)\")\n",
    "\n",
    "plt.show()\n"
   ]
  },
  {
   "cell_type": "code",
   "execution_count": null,
   "id": "8e7859d8-4f2b-42f1-8ab9-6dec2cafc635",
   "metadata": {},
   "outputs": [],
   "source": []
  }
 ],
 "metadata": {
  "kernelspec": {
   "display_name": "Python 3 (ipykernel)",
   "language": "python",
   "name": "python3"
  },
  "language_info": {
   "codemirror_mode": {
    "name": "ipython",
    "version": 3
   },
   "file_extension": ".py",
   "mimetype": "text/x-python",
   "name": "python",
   "nbconvert_exporter": "python",
   "pygments_lexer": "ipython3",
   "version": "3.13.3"
  }
 },
 "nbformat": 4,
 "nbformat_minor": 5
}
