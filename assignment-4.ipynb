{
 "cells": [
  {
   "cell_type": "markdown",
   "id": "1707a68d-3b4c-492b-8e5b-7394211f4346",
   "metadata": {},
   "source": [
    "### Neural Network for Letter Recognition (A, B, C)\n",
    "Step 1: Import Libraries"
   ]
  },
  {
   "cell_type": "code",
   "execution_count": 1,
   "id": "5b614827-83db-4139-9cfa-0b92241f41b1",
   "metadata": {},
   "outputs": [],
   "source": [
    "import numpy as np\n",
    "import matplotlib.pyplot as plt\n"
   ]
  },
  {
   "cell_type": "markdown",
   "id": "1dfec753-4f6a-43e0-a49f-ced0e07bb027",
   "metadata": {},
   "source": [
    "Step 2: Create Binary Patterns for Letters A, B, and C"
   ]
  },
  {
   "cell_type": "code",
   "execution_count": 2,
   "id": "58de7099-ee2c-4515-a732-44813d1926a3",
   "metadata": {},
   "outputs": [],
   "source": [
    "# Each letter is represented as a 5x6 (30-pixel) binary grid\n",
    "\n",
    "A = np.array([\n",
    "    [0,1,1,1,0],\n",
    "    [1,0,0,0,1],\n",
    "    [1,1,1,1,1],\n",
    "    [1,0,0,0,1],\n",
    "    [1,0,0,0,1]\n",
    "]).flatten()\n",
    "\n",
    "B = np.array([\n",
    "    [1,1,1,0,0],\n",
    "    [1,0,0,1,0],\n",
    "    [1,1,1,0,0],\n",
    "    [1,0,0,1,0],\n",
    "    [1,1,1,0,0]\n",
    "]).flatten()\n",
    "\n",
    "C = np.array([\n",
    "    [0,1,1,1,1],\n",
    "    [1,0,0,0,0],\n",
    "    [1,0,0,0,0],\n",
    "    [1,0,0,0,0],\n",
    "    [0,1,1,1,1]\n",
    "]).flatten()\n",
    "\n",
    "# Combine into dataset\n",
    "X = np.array([A, B, C])\n",
    "y = np.array([\n",
    "    [1, 0, 0],  # A\n",
    "    [0, 1, 0],  # B\n",
    "    [0, 0, 1]   # C\n",
    "])\n"
   ]
  },
  {
   "cell_type": "markdown",
   "id": "8e574880-0cc9-483f-b7bc-52477ab9dae1",
   "metadata": {},
   "source": [
    "Step 3: Define Helper Functions"
   ]
  },
  {
   "cell_type": "code",
   "execution_count": 3,
   "id": "4b886524-2826-44e4-8bc6-b06888e56f04",
   "metadata": {},
   "outputs": [],
   "source": [
    "def sigmoid(x):\n",
    "    return 1 / (1 + np.exp(-x))\n",
    "\n",
    "def sigmoid_derivative(x):\n",
    "    return x * (1 - x)\n"
   ]
  },
  {
   "cell_type": "markdown",
   "id": "648f4275-b815-4a92-b6cd-074de8b31b92",
   "metadata": {},
   "source": [
    "Step 4: Initialize Neural Network Parameters"
   ]
  },
  {
   "cell_type": "code",
   "execution_count": 4,
   "id": "b8605d8d-32d8-450a-ba45-e46a39c8aafe",
   "metadata": {},
   "outputs": [],
   "source": [
    "np.random.seed(42)\n",
    "\n",
    "input_neurons = X.shape[1]   # 30 pixels\n",
    "hidden_neurons = 8           # hidden layer\n",
    "output_neurons = 3           # 3 classes (A, B, C)\n",
    "lr = 0.1                     # learning rate\n",
    "\n",
    "# Random weights\n",
    "w1 = np.random.uniform(-1, 1, (input_neurons, hidden_neurons))\n",
    "w2 = np.random.uniform(-1, 1, (hidden_neurons, output_neurons))\n"
   ]
  },
  {
   "cell_type": "markdown",
   "id": "db4cbb79-cae6-45df-9732-d876aecdb8bc",
   "metadata": {},
   "source": [
    "Step 5: Training (Feedforward + Backpropagation)"
   ]
  },
  {
   "cell_type": "code",
   "execution_count": 5,
   "id": "8e9516aa-f118-4790-824d-e6b12c14e0a9",
   "metadata": {},
   "outputs": [
    {
     "data": {
      "image/png": "[encoded data removed]",
      "text/plain": [
       "<Figure size 640x480 with 1 Axes>"
      ]
     },
     "metadata": {},
     "output_type": "display_data"
    }
   ],
   "source": [
    "epochs = 10000\n",
    "losses = []\n",
    "\n",
    "for epoch in range(epochs):\n",
    "    # Forward pass\n",
    "    hidden_input = np.dot(X, w1)\n",
    "    hidden_output = sigmoid(hidden_input)\n",
    "\n",
    "    final_input = np.dot(hidden_output, w2)\n",
    "    final_output = sigmoid(final_input)\n",
    "\n",
    "    # Calculate error\n",
    "    error = y - final_output\n",
    "    loss = np.mean(np.square(error))\n",
    "    losses.append(loss)\n",
    "\n",
    "    # Backpropagation\n",
    "    d_output = error * sigmoid_derivative(final_output)\n",
    "    d_hidden = np.dot(d_output, w2.T) * sigmoid_derivative(hidden_output)\n",
    "\n",
    "    # Update weights\n",
    "    w2 += np.dot(hidden_output.T, d_output) * lr\n",
    "    w1 += np.dot(X.T, d_hidden) * lr\n",
    "\n",
    "# Plot loss curve\n",
    "plt.plot(losses)\n",
    "plt.title(\"Training Loss over Epochs\")\n",
    "plt.xlabel(\"Epochs\")\n",
    "plt.ylabel(\"Loss\")\n",
    "plt.show()\n"
   ]
  },
  {
   "cell_type": "markdown",
   "id": "c38bcd7e-dbb7-418e-9ce6-3bfcb4013a24",
   "metadata": {},
   "source": [
    "Step 6: Test the Model"
   ]
  },
  {
   "cell_type": "code",
   "execution_count": 6,
   "id": "e6b6138d-04c8-4367-b4ed-8c1b097c6459",
   "metadata": {},
   "outputs": [
    {
     "name": "stdout",
     "output_type": "stream",
     "text": [
      "Prediction for A: [0.98 0.01 0.02]\n",
      "Prediction for B: [0.01 0.98 0.02]\n",
      "Prediction for C: [0.01 0.02 0.98]\n"
     ]
    }
   ],
   "source": [
    "def predict(letter):\n",
    "    hidden = sigmoid(np.dot(letter, w1))\n",
    "    output = sigmoid(np.dot(hidden, w2))\n",
    "    return output\n",
    "\n",
    "letters = {'A': A, 'B': B, 'C': C}\n",
    "\n",
    "for name, letter in letters.items():\n",
    "    pred = predict(letter)\n",
    "    print(f\"Prediction for {name}: {pred.round(2)}\")\n"
   ]
  },
  {
   "cell_type": "markdown",
   "id": "b05bb1f5-3e84-43d4-ac78-3e842adbb8fd",
   "metadata": {},
   "source": [
    "Step 7: Visualize Predictions"
   ]
  },
  {
   "cell_type": "code",
   "execution_count": 7,
   "id": "7e9a281d-10a8-4a5e-b9fa-08f111222ad1",
   "metadata": {},
   "outputs": [
    {
     "data": {
      "image/png": "[encoded data removed]",
      "text/plain": [
       "<Figure size 640x480 with 3 Axes>"
      ]
     },
     "metadata": {},
     "output_type": "display_data"
    }
   ],
   "source": [
    "for i, letter in enumerate([A, B, C]):\n",
    "    plt.subplot(1, 3, i + 1)\n",
    "    plt.imshow(letter.reshape(5, 5), cmap='gray')\n",
    "    plt.title(['A', 'B', 'C'][i])\n",
    "plt.show()\n"
   ]
  },
  {
   "cell_type": "markdown",
   "id": "19e9eb6a-f659-4c25-a2a7-2bd1fb1c30fa",
   "metadata": {},
   "source": [
    "Output:\n",
    "\n",
    "Trains a small feedforward NN on 3 letter patterns.\n",
    "\n",
    "Displays loss curve.\n",
    "\n",
    "Predicts probabilities for A, B, and C.\n",
    "\n",
    "Visualizes each letter pattern"
   ]
  },
  {
   "cell_type": "code",
   "execution_count": null,
   "id": "fafbb940-5fdd-40c2-a206-af970f61722d",
   "metadata": {},
   "outputs": [],
   "source": []
  }
 ],
 "metadata": {
  "kernelspec": {
   "display_name": "Python 3 (ipykernel)",
   "language": "python",
   "name": "python3"
  },
  "language_info": {
   "codemirror_mode": {
    "name": "ipython",
    "version": 3
   },
   "file_extension": ".py",
   "mimetype": "text/x-python",
   "name": "python",
   "nbconvert_exporter": "python",
   "pygments_lexer": "ipython3",
   "version": "3.13.3"
  }
 },
 "nbformat": 4,
 "nbformat_minor": 5
}
