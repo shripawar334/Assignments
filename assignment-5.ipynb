{
 "cells": [
  {
   "cell_type": "markdown",
   "id": "0ed9a83a-8882-4efc-92ab-e494743e8e57",
   "metadata": {},
   "source": [
    "COVID-19 Data Analysis using Confirmed & Deaths Datasets"
   ]
  },
  {
   "cell_type": "markdown",
   "id": "82a0712f-5732-41c9-8c18-fd4ac1de74a1",
   "metadata": {},
   "source": [
    "Step 1: Import Libraries"
   ]
  },
  {
   "cell_type": "code",
   "execution_count": 2,
   "id": "e960cd2d-5854-42d3-813e-4e2b11bd0c30",
   "metadata": {},
   "outputs": [],
   "source": [
    "# Cell 1 — Imports & plotting settings\n",
    "import pandas as pd\n",
    "import numpy as np\n",
    "import matplotlib.pyplot as plt\n",
    "import seaborn as sns"
   ]
  },
  {
   "cell_type": "markdown",
   "id": "bf0aee0e-e178-4bef-ad73-f69cbea46f9e",
   "metadata": {},
   "source": [
    "Step 2: Load Datasets"
   ]
  },
  {
   "cell_type": "code",
   "execution_count": 3,
   "id": "ef2bc6a5-d8c3-40d0-8d7e-c03d3eb3093d",
   "metadata": {},
   "outputs": [],
   "source": [
    "# Cell 2 — Load CSVs\n",
    "confirmed = pd.read_csv('covid19_Confirmed_dataset.csv')\n",
    "deaths = pd.read_csv('covid19_deaths_dataset.csv')\n",
    "happiness = pd.read_csv('worldwide_happiness_report.csv')"
   ]
  },
  {
   "cell_type": "code",
   "execution_count": 4,
   "id": "fce0e839-e3e6-4c48-bad0-cb5e9a1694d9",
   "metadata": {},
   "outputs": [],
   "source": [
    "# Quick shapes & columns check"
   ]
  },
  {
   "cell_type": "code",
   "execution_count": 5,
   "id": "ca9e53bb-b9c2-4d1b-b8a3-f6c08e935f31",
   "metadata": {},
   "outputs": [
    {
     "data": {
      "text/plain": [
       "(266, 104)"
      ]
     },
     "execution_count": 5,
     "metadata": {},
     "output_type": "execute_result"
    }
   ],
   "source": [
    "confirmed.shape"
   ]
  },
  {
   "cell_type": "code",
   "execution_count": 6,
   "id": "f66a2e15-30cd-4911-8a51-c6f96cccc212",
   "metadata": {},
   "outputs": [
    {
     "data": {
      "text/plain": [
       "(266, 104)"
      ]
     },
     "execution_count": 6,
     "metadata": {},
     "output_type": "execute_result"
    }
   ],
   "source": [
    "deaths.shape"
   ]
  },
  {
   "cell_type": "code",
   "execution_count": 7,
   "id": "c4ce22bc-d7ad-4849-9581-e970da06765f",
   "metadata": {},
   "outputs": [
    {
     "data": {
      "text/plain": [
       "(156, 9)"
      ]
     },
     "execution_count": 7,
     "metadata": {},
     "output_type": "execute_result"
    }
   ],
   "source": [
    "happiness.shape"
   ]
  },
  {
   "cell_type": "markdown",
   "id": "d575b1e4-f5f3-4ce4-bc0f-ed8410cde146",
   "metadata": {},
   "source": [
    "checking null values"
   ]
  },
  {
   "cell_type": "code",
   "execution_count": 7,
   "id": "6484ac94-a369-48c6-ba9a-30cf3bcaf7c2",
   "metadata": {},
   "outputs": [
    {
     "data": {
      "text/plain": [
       "Province/State    184\n",
       "Country/Region      0\n",
       "Lat                 0\n",
       "Long                0\n",
       "1/22/20             0\n",
       "                 ... \n",
       "4/26/20             0\n",
       "4/27/20             0\n",
       "4/28/20             0\n",
       "4/29/20             0\n",
       "4/30/20             0\n",
       "Length: 104, dtype: int64"
      ]
     },
     "execution_count": 7,
     "metadata": {},
     "output_type": "execute_result"
    }
   ],
   "source": [
    "confirmed.isna().sum()"
   ]
  },
  {
   "cell_type": "code",
   "execution_count": 8,
   "id": "d5141f4e-1cfb-4662-8442-8d9d6683219c",
   "metadata": {},
   "outputs": [
    {
     "data": {
      "text/plain": [
       "Province/State    184\n",
       "Country/Region      0\n",
       "Lat                 0\n",
       "Long                0\n",
       "1/22/20             0\n",
       "                 ... \n",
       "4/26/20             0\n",
       "4/27/20             0\n",
       "4/28/20             0\n",
       "4/29/20             0\n",
       "4/30/20             0\n",
       "Length: 104, dtype: int64"
      ]
     },
     "execution_count": 8,
     "metadata": {},
     "output_type": "execute_result"
    }
   ],
   "source": [
    "deaths.isna().sum()"
   ]
  },
  {
   "cell_type": "code",
   "execution_count": 10,
   "id": "3da85e5f-5115-4d33-a1fd-d9925a042d3e",
   "metadata": {},
   "outputs": [
    {
     "data": {
      "text/plain": [
       "Overall rank                    0\n",
       "Country or region               0\n",
       "Score                           0\n",
       "GDP per capita                  0\n",
       "Social support                  0\n",
       "Healthy life expectancy         0\n",
       "Freedom to make life choices    0\n",
       "Generosity                      0\n",
       "Perceptions of corruption       0\n",
       "dtype: int64"
      ]
     },
     "execution_count": 10,
     "metadata": {},
     "output_type": "execute_result"
    }
   ],
   "source": [
    "happiness.isna().sum()"
   ]
  },
  {
   "cell_type": "markdown",
   "id": "10305512-5bb2-4c82-b1c1-e1e98df840f3",
   "metadata": {},
   "source": [
    "Step 3:find last date column automatically"
   ]
  },
  {
   "cell_type": "code",
   "execution_count": 12,
   "id": "36268d06-2c8b-487f-8d69-3b491d0585f4",
   "metadata": {},
   "outputs": [
    {
     "name": "stdout",
     "output_type": "stream",
     "text": [
      "Last date confirmed: 4/30/20\n",
      "Last date deaths   : 4/30/20\n"
     ]
    }
   ],
   "source": [
    "# Cell 3 — find last date column automatically\n",
    "last_date_confirmed = confirmed.columns[-1]   # last column is (e.g.) '4/30/20'\n",
    "last_date_deaths = deaths.columns[-1]\n",
    "print(\"Last date confirmed:\", last_date_confirmed)\n",
    "print(\"Last date deaths   :\", last_date_deaths)\n",
    "\n"
   ]
  },
  {
   "cell_type": "markdown",
   "id": "3724560d-4647-45f9-8cbd-1a0a57fe7bd2",
   "metadata": {},
   "source": [
    "Step 4:  aggregate confirmed and deaths by Country/Region (take last date column)"
   ]
  },
  {
   "cell_type": "code",
   "execution_count": 13,
   "id": "37f91034-d0fe-4bb8-a012-ebc86305a656",
   "metadata": {},
   "outputs": [
    {
     "data": {
      "text/html": [
       "<div>\n",
       "<style scoped>\n",
       "    .dataframe tbody tr th:only-of-type {\n",
       "        vertical-align: middle;\n",
       "    }\n",
       "\n",
       "    .dataframe tbody tr th {\n",
       "        vertical-align: top;\n",
       "    }\n",
       "\n",
       "    .dataframe thead th {\n",
       "        text-align: right;\n",
       "    }\n",
       "</style>\n",
       "<table border=\"1\" class=\"dataframe\">\n",
       "  <thead>\n",
       "    <tr style=\"text-align: right;\">\n",
       "      <th></th>\n",
       "      <th>Country</th>\n",
       "      <th>TotalConfirmed</th>\n",
       "    </tr>\n",
       "  </thead>\n",
       "  <tbody>\n",
       "    <tr>\n",
       "      <th>0</th>\n",
       "      <td>Afghanistan</td>\n",
       "      <td>2171</td>\n",
       "    </tr>\n",
       "    <tr>\n",
       "      <th>1</th>\n",
       "      <td>Albania</td>\n",
       "      <td>773</td>\n",
       "    </tr>\n",
       "    <tr>\n",
       "      <th>2</th>\n",
       "      <td>Algeria</td>\n",
       "      <td>4006</td>\n",
       "    </tr>\n",
       "    <tr>\n",
       "      <th>3</th>\n",
       "      <td>Andorra</td>\n",
       "      <td>745</td>\n",
       "    </tr>\n",
       "    <tr>\n",
       "      <th>4</th>\n",
       "      <td>Angola</td>\n",
       "      <td>27</td>\n",
       "    </tr>\n",
       "  </tbody>\n",
       "</table>\n",
       "</div>"
      ],
      "text/plain": [
       "       Country  TotalConfirmed\n",
       "0  Afghanistan            2171\n",
       "1      Albania             773\n",
       "2      Algeria            4006\n",
       "3      Andorra             745\n",
       "4       Angola              27"
      ]
     },
     "execution_count": 13,
     "metadata": {},
     "output_type": "execute_result"
    }
   ],
   "source": [
    "# Cell 4 — aggregate confirmed and deaths by Country/Region (take last date column)\n",
    "conf_agg = confirmed.groupby('Country/Region')[last_date_confirmed].sum().reset_index()\n",
    "conf_agg.rename(columns={last_date_confirmed: 'TotalConfirmed', 'Country/Region': 'Country'}, inplace=True)\n",
    "\n",
    "deaths_agg = deaths.groupby('Country/Region')[last_date_deaths].sum().reset_index()\n",
    "deaths_agg.rename(columns={last_date_deaths: 'TotalDeaths', 'Country/Region': 'Country'}, inplace=True)\n",
    "\n",
    "# Ensure numeric and fill NA\n",
    "conf_agg['TotalConfirmed'] = conf_agg['TotalConfirmed'].fillna(0).astype(int)\n",
    "deaths_agg['TotalDeaths'] = deaths_agg['TotalDeaths'].fillna(0).astype(int)\n",
    "\n",
    "# Quick peek\n",
    "conf_agg.head()\n",
    "\n"
   ]
  },
  {
   "cell_type": "markdown",
   "id": "7d58514a-33e3-4567-809e-9cccb4209072",
   "metadata": {},
   "source": [
    "Step 5: detect important columns in happiness file (robust to slight column name differences)"
   ]
  },
  {
   "cell_type": "code",
   "execution_count": 14,
   "id": "abf110e9-3dd2-4ec4-9d58-9b482bf1de76",
   "metadata": {},
   "outputs": [
    {
     "name": "stdout",
     "output_type": "stream",
     "text": [
      "Detected columns:\n",
      "country: Country or region\n",
      "score  : Score\n",
      "gdp    : GDP per capita\n",
      "social : Social support\n",
      "life   : Healthy life expectancy\n",
      "freedom: Freedom to make life choices\n",
      "generos: Generosity\n",
      "corrupt: Perceptions of corruption\n"
     ]
    },
    {
     "data": {
      "text/html": [
       "<div>\n",
       "<style scoped>\n",
       "    .dataframe tbody tr th:only-of-type {\n",
       "        vertical-align: middle;\n",
       "    }\n",
       "\n",
       "    .dataframe tbody tr th {\n",
       "        vertical-align: top;\n",
       "    }\n",
       "\n",
       "    .dataframe thead th {\n",
       "        text-align: right;\n",
       "    }\n",
       "</style>\n",
       "<table border=\"1\" class=\"dataframe\">\n",
       "  <thead>\n",
       "    <tr style=\"text-align: right;\">\n",
       "      <th></th>\n",
       "      <th>Country</th>\n",
       "      <th>HappinessScore</th>\n",
       "      <th>GDP</th>\n",
       "      <th>SocialSupport</th>\n",
       "      <th>LifeExpectancy</th>\n",
       "      <th>Freedom</th>\n",
       "      <th>Generosity</th>\n",
       "      <th>Corruption</th>\n",
       "    </tr>\n",
       "  </thead>\n",
       "  <tbody>\n",
       "    <tr>\n",
       "      <th>0</th>\n",
       "      <td>Finland</td>\n",
       "      <td>7.769</td>\n",
       "      <td>1.340</td>\n",
       "      <td>1.587</td>\n",
       "      <td>0.986</td>\n",
       "      <td>0.596</td>\n",
       "      <td>0.153</td>\n",
       "      <td>0.393</td>\n",
       "    </tr>\n",
       "    <tr>\n",
       "      <th>1</th>\n",
       "      <td>Denmark</td>\n",
       "      <td>7.600</td>\n",
       "      <td>1.383</td>\n",
       "      <td>1.573</td>\n",
       "      <td>0.996</td>\n",
       "      <td>0.592</td>\n",
       "      <td>0.252</td>\n",
       "      <td>0.410</td>\n",
       "    </tr>\n",
       "    <tr>\n",
       "      <th>2</th>\n",
       "      <td>Norway</td>\n",
       "      <td>7.554</td>\n",
       "      <td>1.488</td>\n",
       "      <td>1.582</td>\n",
       "      <td>1.028</td>\n",
       "      <td>0.603</td>\n",
       "      <td>0.271</td>\n",
       "      <td>0.341</td>\n",
       "    </tr>\n",
       "    <tr>\n",
       "      <th>3</th>\n",
       "      <td>Iceland</td>\n",
       "      <td>7.494</td>\n",
       "      <td>1.380</td>\n",
       "      <td>1.624</td>\n",
       "      <td>1.026</td>\n",
       "      <td>0.591</td>\n",
       "      <td>0.354</td>\n",
       "      <td>0.118</td>\n",
       "    </tr>\n",
       "    <tr>\n",
       "      <th>4</th>\n",
       "      <td>Netherlands</td>\n",
       "      <td>7.488</td>\n",
       "      <td>1.396</td>\n",
       "      <td>1.522</td>\n",
       "      <td>0.999</td>\n",
       "      <td>0.557</td>\n",
       "      <td>0.322</td>\n",
       "      <td>0.298</td>\n",
       "    </tr>\n",
       "  </tbody>\n",
       "</table>\n",
       "</div>"
      ],
      "text/plain": [
       "       Country  HappinessScore    GDP  SocialSupport  LifeExpectancy  Freedom  \\\n",
       "0      Finland           7.769  1.340          1.587           0.986    0.596   \n",
       "1      Denmark           7.600  1.383          1.573           0.996    0.592   \n",
       "2       Norway           7.554  1.488          1.582           1.028    0.603   \n",
       "3      Iceland           7.494  1.380          1.624           1.026    0.591   \n",
       "4  Netherlands           7.488  1.396          1.522           0.999    0.557   \n",
       "\n",
       "   Generosity  Corruption  \n",
       "0       0.153       0.393  \n",
       "1       0.252       0.410  \n",
       "2       0.271       0.341  \n",
       "3       0.354       0.118  \n",
       "4       0.322       0.298  "
      ]
     },
     "execution_count": 14,
     "metadata": {},
     "output_type": "execute_result"
    }
   ],
   "source": [
    "# Cell 5 — detect important columns in happiness file (robust to slight column name differences)\n",
    "def find_col(df, keywords):\n",
    "    for k in keywords:\n",
    "        for c in df.columns:\n",
    "            if k.lower() in c.lower():\n",
    "                return c\n",
    "    return None\n",
    "\n",
    "country_col = find_col(happiness, ['country'])\n",
    "score_col = find_col(happiness, ['score','happiness'])\n",
    "gdp_col = find_col(happiness, ['gdp'])\n",
    "social_col = find_col(happiness, ['social'])\n",
    "life_col = find_col(happiness, ['life','healthy'])\n",
    "freedom_col = find_col(happiness, ['freedom'])\n",
    "generosity_col = find_col(happiness, ['generosity'])\n",
    "corruption_col = find_col(happiness, ['corrupt'])\n",
    "\n",
    "print(\"Detected columns:\")\n",
    "print(\"country:\", country_col)\n",
    "print(\"score  :\", score_col)\n",
    "print(\"gdp    :\", gdp_col)\n",
    "print(\"social :\", social_col)\n",
    "print(\"life   :\", life_col)\n",
    "print(\"freedom:\", freedom_col)\n",
    "print(\"generos:\", generosity_col)\n",
    "print(\"corrupt:\", corruption_col)\n",
    "\n",
    "# Subset and rename\n",
    "happy_sub = happiness[[country_col, score_col, gdp_col, social_col, life_col, freedom_col, generosity_col, corruption_col]].copy()\n",
    "happy_sub.columns = ['Country', 'HappinessScore', 'GDP', 'SocialSupport', 'LifeExpectancy', 'Freedom', 'Generosity', 'Corruption']\n",
    "\n",
    "# Convert numeric columns to numeric dtype if needed\n",
    "num_cols = ['HappinessScore','GDP','SocialSupport','LifeExpectancy','Freedom','Generosity','Corruption']\n",
    "for c in num_cols:\n",
    "    happy_sub[c] = pd.to_numeric(happy_sub[c], errors='coerce')\n",
    "\n",
    "happy_sub.head()\n"
   ]
  },
  {
   "cell_type": "markdown",
   "id": "486fc744-91d9-44f1-89df-58fbb377bc9d",
   "metadata": {},
   "source": [
    "Step 6:  strip whitespace and standardize case (basic cleaning)"
   ]
  },
  {
   "cell_type": "code",
   "execution_count": 15,
   "id": "ded50809-72e0-4ca1-a33e-34c2ae9bb626",
   "metadata": {},
   "outputs": [
    {
     "data": {
      "text/html": [
       "<div>\n",
       "<style scoped>\n",
       "    .dataframe tbody tr th:only-of-type {\n",
       "        vertical-align: middle;\n",
       "    }\n",
       "\n",
       "    .dataframe tbody tr th {\n",
       "        vertical-align: top;\n",
       "    }\n",
       "\n",
       "    .dataframe thead th {\n",
       "        text-align: right;\n",
       "    }\n",
       "</style>\n",
       "<table border=\"1\" class=\"dataframe\">\n",
       "  <thead>\n",
       "    <tr style=\"text-align: right;\">\n",
       "      <th></th>\n",
       "      <th>Country</th>\n",
       "      <th>TotalConfirmed</th>\n",
       "      <th>TotalDeaths</th>\n",
       "    </tr>\n",
       "  </thead>\n",
       "  <tbody>\n",
       "    <tr>\n",
       "      <th>0</th>\n",
       "      <td>Afghanistan</td>\n",
       "      <td>2171</td>\n",
       "      <td>64</td>\n",
       "    </tr>\n",
       "    <tr>\n",
       "      <th>1</th>\n",
       "      <td>Albania</td>\n",
       "      <td>773</td>\n",
       "      <td>31</td>\n",
       "    </tr>\n",
       "    <tr>\n",
       "      <th>2</th>\n",
       "      <td>Algeria</td>\n",
       "      <td>4006</td>\n",
       "      <td>450</td>\n",
       "    </tr>\n",
       "    <tr>\n",
       "      <th>3</th>\n",
       "      <td>Andorra</td>\n",
       "      <td>745</td>\n",
       "      <td>42</td>\n",
       "    </tr>\n",
       "    <tr>\n",
       "      <th>4</th>\n",
       "      <td>Angola</td>\n",
       "      <td>27</td>\n",
       "      <td>2</td>\n",
       "    </tr>\n",
       "  </tbody>\n",
       "</table>\n",
       "</div>"
      ],
      "text/plain": [
       "       Country  TotalConfirmed  TotalDeaths\n",
       "0  Afghanistan            2171           64\n",
       "1      Albania             773           31\n",
       "2      Algeria            4006          450\n",
       "3      Andorra             745           42\n",
       "4       Angola              27            2"
      ]
     },
     "execution_count": 15,
     "metadata": {},
     "output_type": "execute_result"
    }
   ],
   "source": [
    "# Cell 6 — strip whitespace and standardize case (basic cleaning)\n",
    "conf_agg['Country'] = conf_agg['Country'].str.strip()\n",
    "deaths_agg['Country'] = deaths_agg['Country'].str.strip()\n",
    "happy_sub['Country'] = happy_sub['Country'].str.strip()\n",
    "\n",
    "# Merge confirmed + deaths into one covid_totals DataFrame\n",
    "covid_totals = pd.merge(conf_agg, deaths_agg[['Country','TotalDeaths']], on='Country', how='left')\n",
    "covid_totals['TotalDeaths'] = covid_totals['TotalDeaths'].fillna(0).astype(int)\n",
    "covid_totals.head()\n"
   ]
  },
  {
   "cell_type": "markdown",
   "id": "3922ee33-7fc1-4106-afbd-62b562416aee",
   "metadata": {},
   "source": [
    "Step 7: check unmatched countries before merging with happiness"
   ]
  },
  {
   "cell_type": "code",
   "execution_count": 16,
   "id": "773ca61c-d074-4e47-86bb-c917962d9a64",
   "metadata": {},
   "outputs": [
    {
     "name": "stdout",
     "output_type": "stream",
     "text": [
      "Countries present in COVID but NOT in Happiness (sample 20): ['Andorra', 'Angola', 'Antigua and Barbuda', 'Bahamas', 'Barbados', 'Belize', 'Brunei', 'Burma', 'Cabo Verde', \"Cote d'Ivoire\", 'Cuba', 'Czechia', 'Diamond Princess', 'Djibouti', 'Dominica', 'Equatorial Guinea', 'Eritrea', 'Eswatini', 'Fiji', 'Grenada']\n",
      "Countries present in Happiness but NOT in COVID (sample 20): ['Czech Republic', 'Hong Kong', 'Ivory Coast', 'Lesotho', 'Myanmar', 'Northern Cyprus', 'Palestinian Territories', 'South Korea', 'Swaziland', 'Taiwan', 'Trinidad & Tobago', 'Turkmenistan', 'United States']\n"
     ]
    }
   ],
   "source": [
    "# Cell 7 — check unmatched countries before merging with happiness\n",
    "set_covid = set(covid_totals['Country'].unique())\n",
    "set_happy = set(happy_sub['Country'].unique())\n",
    "\n",
    "missing_in_happiness = sorted(list(set_covid - set_happy))\n",
    "missing_in_covid = sorted(list(set_happy - set_covid))\n",
    "\n",
    "print(\"Countries present in COVID but NOT in Happiness (sample 20):\", missing_in_happiness[:20])\n",
    "print(\"Countries present in Happiness but NOT in COVID (sample 20):\", missing_in_covid[:20])\n",
    "\n",
    "# If many mismatches, you can create a manual mapping dict to reconcile names (example below):\n",
    "# name_map = {'US':'United States', 'Korea, South':'South Korea', 'Czechia':'Czech Republic', ...}\n",
    "# covid_totals['Country'] = covid_totals['Country'].replace(name_map)\n",
    "# happy_sub['Country'] = happy_sub['Country'].replace(name_map)\n",
    "\n"
   ]
  },
  {
   "cell_type": "markdown",
   "id": "675789c4-c30b-4030-8155-524aff68abb2",
   "metadata": {},
   "source": [
    "Step 8: merge"
   ]
  },
  {
   "cell_type": "code",
   "execution_count": 17,
   "id": "089ababd-36d5-4f63-ade2-51ede811395a",
   "metadata": {},
   "outputs": [
    {
     "name": "stdout",
     "output_type": "stream",
     "text": [
      "Merged shape: (143, 10)\n"
     ]
    },
    {
     "data": {
      "text/html": [
       "<div>\n",
       "<style scoped>\n",
       "    .dataframe tbody tr th:only-of-type {\n",
       "        vertical-align: middle;\n",
       "    }\n",
       "\n",
       "    .dataframe tbody tr th {\n",
       "        vertical-align: top;\n",
       "    }\n",
       "\n",
       "    .dataframe thead th {\n",
       "        text-align: right;\n",
       "    }\n",
       "</style>\n",
       "<table border=\"1\" class=\"dataframe\">\n",
       "  <thead>\n",
       "    <tr style=\"text-align: right;\">\n",
       "      <th></th>\n",
       "      <th>Country</th>\n",
       "      <th>TotalConfirmed</th>\n",
       "      <th>TotalDeaths</th>\n",
       "      <th>HappinessScore</th>\n",
       "      <th>GDP</th>\n",
       "      <th>SocialSupport</th>\n",
       "      <th>LifeExpectancy</th>\n",
       "      <th>Freedom</th>\n",
       "      <th>Generosity</th>\n",
       "      <th>Corruption</th>\n",
       "    </tr>\n",
       "  </thead>\n",
       "  <tbody>\n",
       "    <tr>\n",
       "      <th>0</th>\n",
       "      <td>Afghanistan</td>\n",
       "      <td>2171</td>\n",
       "      <td>64</td>\n",
       "      <td>3.203</td>\n",
       "      <td>0.350</td>\n",
       "      <td>0.517</td>\n",
       "      <td>0.361</td>\n",
       "      <td>0.000</td>\n",
       "      <td>0.158</td>\n",
       "      <td>0.025</td>\n",
       "    </tr>\n",
       "    <tr>\n",
       "      <th>1</th>\n",
       "      <td>Albania</td>\n",
       "      <td>773</td>\n",
       "      <td>31</td>\n",
       "      <td>4.719</td>\n",
       "      <td>0.947</td>\n",
       "      <td>0.848</td>\n",
       "      <td>0.874</td>\n",
       "      <td>0.383</td>\n",
       "      <td>0.178</td>\n",
       "      <td>0.027</td>\n",
       "    </tr>\n",
       "    <tr>\n",
       "      <th>2</th>\n",
       "      <td>Algeria</td>\n",
       "      <td>4006</td>\n",
       "      <td>450</td>\n",
       "      <td>5.211</td>\n",
       "      <td>1.002</td>\n",
       "      <td>1.160</td>\n",
       "      <td>0.785</td>\n",
       "      <td>0.086</td>\n",
       "      <td>0.073</td>\n",
       "      <td>0.114</td>\n",
       "    </tr>\n",
       "    <tr>\n",
       "      <th>3</th>\n",
       "      <td>Argentina</td>\n",
       "      <td>4428</td>\n",
       "      <td>218</td>\n",
       "      <td>6.086</td>\n",
       "      <td>1.092</td>\n",
       "      <td>1.432</td>\n",
       "      <td>0.881</td>\n",
       "      <td>0.471</td>\n",
       "      <td>0.066</td>\n",
       "      <td>0.050</td>\n",
       "    </tr>\n",
       "    <tr>\n",
       "      <th>4</th>\n",
       "      <td>Armenia</td>\n",
       "      <td>2066</td>\n",
       "      <td>32</td>\n",
       "      <td>4.559</td>\n",
       "      <td>0.850</td>\n",
       "      <td>1.055</td>\n",
       "      <td>0.815</td>\n",
       "      <td>0.283</td>\n",
       "      <td>0.095</td>\n",
       "      <td>0.064</td>\n",
       "    </tr>\n",
       "  </tbody>\n",
       "</table>\n",
       "</div>"
      ],
      "text/plain": [
       "       Country  TotalConfirmed  TotalDeaths  HappinessScore    GDP  \\\n",
       "0  Afghanistan            2171           64           3.203  0.350   \n",
       "1      Albania             773           31           4.719  0.947   \n",
       "2      Algeria            4006          450           5.211  1.002   \n",
       "3    Argentina            4428          218           6.086  1.092   \n",
       "4      Armenia            2066           32           4.559  0.850   \n",
       "\n",
       "   SocialSupport  LifeExpectancy  Freedom  Generosity  Corruption  \n",
       "0          0.517           0.361    0.000       0.158       0.025  \n",
       "1          0.848           0.874    0.383       0.178       0.027  \n",
       "2          1.160           0.785    0.086       0.073       0.114  \n",
       "3          1.432           0.881    0.471       0.066       0.050  \n",
       "4          1.055           0.815    0.283       0.095       0.064  "
      ]
     },
     "execution_count": 17,
     "metadata": {},
     "output_type": "execute_result"
    }
   ],
   "source": [
    "# Cell 8 — merge (inner join so we analyze only countries present in both)\n",
    "merged = pd.merge(covid_totals, happy_sub, on='Country', how='inner')\n",
    "\n",
    "# Basic cleaning: drop rows with no happiness score\n",
    "merged = merged.dropna(subset=['HappinessScore']).reset_index(drop=True)\n",
    "print(\"Merged shape:\", merged.shape)\n",
    "merged.head()\n",
    "\n"
   ]
  },
  {
   "cell_type": "markdown",
   "id": "6087f658-b32f-4da5-83e8-b1fb682832c3",
   "metadata": {},
   "source": [
    "Step 9:  compute Mortality Rate safely"
   ]
  },
  {
   "cell_type": "code",
   "execution_count": 18,
   "id": "3e044d9c-87c1-4bd3-8476-efef5faa283b",
   "metadata": {},
   "outputs": [
    {
     "data": {
      "text/html": [
       "<div>\n",
       "<style scoped>\n",
       "    .dataframe tbody tr th:only-of-type {\n",
       "        vertical-align: middle;\n",
       "    }\n",
       "\n",
       "    .dataframe tbody tr th {\n",
       "        vertical-align: top;\n",
       "    }\n",
       "\n",
       "    .dataframe thead th {\n",
       "        text-align: right;\n",
       "    }\n",
       "</style>\n",
       "<table border=\"1\" class=\"dataframe\">\n",
       "  <thead>\n",
       "    <tr style=\"text-align: right;\">\n",
       "      <th></th>\n",
       "      <th>Country</th>\n",
       "      <th>TotalConfirmed</th>\n",
       "      <th>TotalDeaths</th>\n",
       "      <th>MortalityRate</th>\n",
       "      <th>HappinessScore</th>\n",
       "      <th>GDP</th>\n",
       "    </tr>\n",
       "  </thead>\n",
       "  <tbody>\n",
       "    <tr>\n",
       "      <th>0</th>\n",
       "      <td>Afghanistan</td>\n",
       "      <td>2171</td>\n",
       "      <td>64</td>\n",
       "      <td>2.947950</td>\n",
       "      <td>3.203</td>\n",
       "      <td>0.350</td>\n",
       "    </tr>\n",
       "    <tr>\n",
       "      <th>1</th>\n",
       "      <td>Albania</td>\n",
       "      <td>773</td>\n",
       "      <td>31</td>\n",
       "      <td>4.010349</td>\n",
       "      <td>4.719</td>\n",
       "      <td>0.947</td>\n",
       "    </tr>\n",
       "    <tr>\n",
       "      <th>2</th>\n",
       "      <td>Algeria</td>\n",
       "      <td>4006</td>\n",
       "      <td>450</td>\n",
       "      <td>11.233150</td>\n",
       "      <td>5.211</td>\n",
       "      <td>1.002</td>\n",
       "    </tr>\n",
       "    <tr>\n",
       "      <th>3</th>\n",
       "      <td>Argentina</td>\n",
       "      <td>4428</td>\n",
       "      <td>218</td>\n",
       "      <td>4.923216</td>\n",
       "      <td>6.086</td>\n",
       "      <td>1.092</td>\n",
       "    </tr>\n",
       "    <tr>\n",
       "      <th>4</th>\n",
       "      <td>Armenia</td>\n",
       "      <td>2066</td>\n",
       "      <td>32</td>\n",
       "      <td>1.548887</td>\n",
       "      <td>4.559</td>\n",
       "      <td>0.850</td>\n",
       "    </tr>\n",
       "  </tbody>\n",
       "</table>\n",
       "</div>"
      ],
      "text/plain": [
       "       Country  TotalConfirmed  TotalDeaths  MortalityRate  HappinessScore  \\\n",
       "0  Afghanistan            2171           64       2.947950           3.203   \n",
       "1      Albania             773           31       4.010349           4.719   \n",
       "2      Algeria            4006          450      11.233150           5.211   \n",
       "3    Argentina            4428          218       4.923216           6.086   \n",
       "4      Armenia            2066           32       1.548887           4.559   \n",
       "\n",
       "     GDP  \n",
       "0  0.350  \n",
       "1  0.947  \n",
       "2  1.002  \n",
       "3  1.092  \n",
       "4  0.850  "
      ]
     },
     "execution_count": 18,
     "metadata": {},
     "output_type": "execute_result"
    }
   ],
   "source": [
    "# Cell 9 — compute Mortality Rate safely\n",
    "merged['MortalityRate'] = np.where(merged['TotalConfirmed'] > 0,\n",
    "                                   merged['TotalDeaths'] / merged['TotalConfirmed'] * 100,\n",
    "                                   0.0)\n",
    "\n",
    "# Optional: log transformed measures (helpful for plotting)\n",
    "merged['LogConfirmed'] = np.log1p(merged['TotalConfirmed'])\n",
    "merged['LogDeaths'] = np.log1p(merged['TotalDeaths'])\n",
    "\n",
    "merged[['Country','TotalConfirmed','TotalDeaths','MortalityRate','HappinessScore','GDP']].head()\n",
    "\n"
   ]
  },
  {
   "cell_type": "markdown",
   "id": "e1544c63-dcf4-4b4b-a23a-4a29eadec81b",
   "metadata": {},
   "source": [
    "Step 10: correlation matrix for selected columns"
   ]
  },
  {
   "cell_type": "code",
   "execution_count": 19,
   "id": "43fdceb4-646d-44d0-9719-084c391e8b27",
   "metadata": {},
   "outputs": [
    {
     "name": "stdout",
     "output_type": "stream",
     "text": [
      "Correlation with MortalityRate:\n",
      "MortalityRate     1.000\n",
      "TotalDeaths       0.414\n",
      "TotalConfirmed    0.313\n",
      "Corruption        0.061\n",
      "SocialSupport     0.029\n",
      "LifeExpectancy    0.023\n",
      "HappinessScore    0.006\n",
      "Generosity       -0.046\n",
      "GDP              -0.053\n",
      "Freedom          -0.183\n",
      "Name: MortalityRate, dtype: float64\n"
     ]
    }
   ],
   "source": [
    "# Cell 10 — correlation matrix for selected columns\n",
    "corr_cols = ['HappinessScore','GDP','SocialSupport','LifeExpectancy','Freedom','Generosity','Corruption','TotalConfirmed','TotalDeaths','MortalityRate']\n",
    "corr_df = merged[corr_cols].corr()\n",
    "corr_df.round(3)\n",
    "# Print correlation of features with MortalityRate (sorted)\n",
    "print(\"Correlation with MortalityRate:\")\n",
    "print(corr_df['MortalityRate'].sort_values(ascending=False).round(3))\n",
    "\n"
   ]
  },
  {
   "cell_type": "markdown",
   "id": "b3d24f8e-1493-4894-ba61-275618938d8f",
   "metadata": {},
   "source": [
    "step 11 — Top 10 countries by Total Confirmed (bar)"
   ]
  },
  {
   "cell_type": "code",
   "execution_count": 20,
   "id": "f6f9ca8a-3044-4019-bd23-f82db582a8e0",
   "metadata": {},
   "outputs": [
    {
     "data": {
      "image/png": "[encoded data removed]",
      "text/plain": [
       "<Figure size 1000x600 with 1 Axes>"
      ]
     },
     "metadata": {},
     "output_type": "display_data"
    },
    {
     "data": {
      "image/png": "[encoded data removed]",
      "text/plain": [
       "<Figure size 1000x600 with 1 Axes>"
      ]
     },
     "metadata": {},
     "output_type": "display_data"
    },
    {
     "data": {
      "image/png": "[encoded data removed]",
      "text/plain": [
       "<Figure size 800x600 with 1 Axes>"
      ]
     },
     "metadata": {},
     "output_type": "display_data"
    },
    {
     "data": {
      "image/png": "[encoded data removed]",
      "text/plain": [
       "<Figure size 800x600 with 1 Axes>"
      ]
     },
     "metadata": {},
     "output_type": "display_data"
    }
   ],
   "source": [
    "# Cell 11a — Top 10 countries by Total Confirmed (bar)\n",
    "top10_confirmed = merged.sort_values('TotalConfirmed', ascending=False).head(10)\n",
    "plt.figure(figsize=(10,6))\n",
    "sns.barplot(data=top10_confirmed, x='TotalConfirmed', y='Country')\n",
    "plt.title('Top 10 countries by Total Confirmed (latest date)')\n",
    "plt.xlabel('Total Confirmed cases')\n",
    "plt.tight_layout()\n",
    "plt.show()\n",
    "\n",
    "# Cell 11b — Top 10 countries by Total Deaths (bar)\n",
    "top10_deaths = merged.sort_values('TotalDeaths', ascending=False).head(10)\n",
    "plt.figure(figsize=(10,6))\n",
    "sns.barplot(data=top10_deaths, x='TotalDeaths', y='Country')\n",
    "plt.title('Top 10 countries by Total Deaths (latest date)')\n",
    "plt.xlabel('Total Deaths')\n",
    "plt.tight_layout()\n",
    "plt.show()\n",
    "\n",
    "# Cell 11c — Scatter: HappinessScore vs MortalityRate (with regression line)\n",
    "plt.figure(figsize=(8,6))\n",
    "sns.regplot(data=merged, x='HappinessScore', y='MortalityRate', scatter_kws={'s':40})\n",
    "plt.title('Happiness Score vs Mortality Rate (%)')\n",
    "plt.xlabel('Happiness Score')\n",
    "plt.ylabel('Mortality Rate (%)')\n",
    "plt.tight_layout()\n",
    "plt.show()\n",
    "\n",
    "# Cell 11d — Scatter: GDP vs MortalityRate\n",
    "plt.figure(figsize=(8,6))\n",
    "sns.regplot(data=merged, x='GDP', y='MortalityRate', scatter_kws={'s':40})\n",
    "plt.title('GDP per Capita vs Mortality Rate (%)')\n",
    "plt.xlabel('GDP per Capita')\n",
    "plt.ylabel('Mortality Rate (%)')\n",
    "plt.tight_layout()\n",
    "plt.show()\n"
   ]
  },
  {
   "cell_type": "code",
   "execution_count": null,
   "id": "8ebe796c-ed3a-4122-ac10-6ca7f623600c",
   "metadata": {},
   "outputs": [],
   "source": []
  },
  {
   "cell_type": "code",
   "execution_count": 21,
   "id": "021091d3-e2b7-41bc-92a6-12af84da6676",
   "metadata": {},
   "outputs": [
    {
     "name": "stdout",
     "output_type": "stream",
     "text": [
      "Top negative correlations with MortalityRate (possible protective factors):\n",
      "Freedom          -0.183\n",
      "GDP              -0.053\n",
      "Generosity       -0.046\n",
      "HappinessScore    0.006\n",
      "LifeExpectancy    0.023\n",
      "Name: MortalityRate, dtype: float64\n",
      "\n",
      "Top positive correlations with MortalityRate:\n",
      "SocialSupport     0.029\n",
      "Corruption        0.061\n",
      "TotalConfirmed    0.313\n",
      "TotalDeaths       0.414\n",
      "MortalityRate     1.000\n",
      "Name: MortalityRate, dtype: float64\n",
      "- HappinessScore is positively correlated with MortalityRate (interpret with caution).\n",
      "- Highest correlation with MortalityRate: MortalityRate (1.000)\n"
     ]
    }
   ],
   "source": [
    "# Cell 12 — show strongest positive/negative correlations with MortalityRate\n",
    "corr_with_mort = corr_df['MortalityRate'].dropna().sort_values()\n",
    "print(\"Top negative correlations with MortalityRate (possible protective factors):\")\n",
    "print(corr_with_mort.head(5).round(3))\n",
    "print(\"\\nTop positive correlations with MortalityRate:\")\n",
    "print(corr_with_mort.tail(5).round(3))\n",
    "\n",
    "# Example of extracting a few quick insights automatically:\n",
    "insights = []\n",
    "if corr_df.loc['HappinessScore','MortalityRate'] < 0:\n",
    "    insights.append(\"HappinessScore is negatively correlated with MortalityRate (higher happiness → lower mortality).\")\n",
    "else:\n",
    "    insights.append(\"HappinessScore is positively correlated with MortalityRate (interpret with caution).\")\n",
    "\n",
    "insights.append(f\"Highest correlation with MortalityRate: {corr_df['MortalityRate'].abs().idxmax()} ({corr_df['MortalityRate'].abs().max():.3f})\")\n",
    "for s in insights:\n",
    "    print(\"-\", s)\n"
   ]
  },
  {
   "cell_type": "markdown",
   "id": "34b92229-53d1-4183-9e23-73f4ef041305",
   "metadata": {},
   "source": [
    "# Conclusions (example)\n",
    "- Correlation analysis shows (fill with observed results after running): e.g., \"HappinessScore has a small negative correlation with mortality rate, suggesting countries with higher happiness generally experienced somewhat lower COVID mortality (subject to confounders).\"\n",
    "- GDP and LifeExpectancy also correlate with COVID outcomes — interpret with caution (population, testing rates, health system capacity, age structure are confounders).\n",
    "- Next steps: add population data (cases/deaths per 100k), control for age structure, run regression models to control confounders, and reconcile country-name mismatches for more complete coverage.\n"
   ]
  },
  {
   "cell_type": "code",
   "execution_count": 22,
   "id": "c2394f3a-9fb2-4ad9-a652-e0f6b27601ea",
   "metadata": {},
   "outputs": [
    {
     "name": "stdout",
     "output_type": "stream",
     "text": [
      "Saved merged file: covid_happiness_merged.csv\n"
     ]
    }
   ],
   "source": [
    "# Cell 13 — Save merged CSV and a small summary CSV\n",
    "merged.to_csv('covid_happiness_merged.csv', index=False)\n",
    "print(\"Saved merged file: covid_happiness_merged.csv\")\n"
   ]
  },
  {
   "cell_type": "code",
   "execution_count": null,
   "id": "fb4b7389-d8ad-4c6a-b895-72ddf42a84e1",
   "metadata": {},
   "outputs": [],
   "source": []
  },
  {
   "cell_type": "code",
   "execution_count": null,
   "id": "482207bf-896f-499c-a210-85d6934f7113",
   "metadata": {},
   "outputs": [],
   "source": []
  },
  {
   "cell_type": "code",
   "execution_count": null,
   "id": "c2887476-2412-42c0-a819-b075d33288cc",
   "metadata": {},
   "outputs": [],
   "source": []
  }
 ],
 "metadata": {
  "kernelspec": {
   "display_name": "Python 3 (ipykernel)",
   "language": "python",
   "name": "python3"
  },
  "language_info": {
   "codemirror_mode": {
    "name": "ipython",
    "version": 3
   },
   "file_extension": ".py",
   "mimetype": "text/x-python",
   "name": "python",
   "nbconvert_exporter": "python",
   "pygments_lexer": "ipython3",
   "version": "3.13.3"
  }
 },
 "nbformat": 4,
 "nbformat_minor": 5
}
